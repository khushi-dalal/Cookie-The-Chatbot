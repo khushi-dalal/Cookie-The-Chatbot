{
 "cells": [
  {
   "cell_type": "code",
   "execution_count": 1,
   "id": "92f33e2b",
   "metadata": {},
   "outputs": [
    {
     "name": "stdout",
     "output_type": "stream",
     "text": [
      "BOT: Hi, My name is Cookie. Let's start a conversation! Also, if you want to exit anytime just type Bye!\n",
      "hey\n",
      "BOT: hey\n",
      "data sets\n",
      "BOT: "
     ]
    },
    {
     "name": "stderr",
     "output_type": "stream",
     "text": [
      "C:\\Users\\khush\\anaconda3\\lib\\site-packages\\sklearn\\feature_extraction\\text.py:396: UserWarning: Your stop_words may be inconsistent with your preprocessing. Tokenizing the stop words generated tokens ['ha', 'le', 'u', 'wa'] not in stop_words.\n",
      "  warnings.warn(\n"
     ]
    },
    {
     "name": "stdout",
     "output_type": "stream",
     "text": [
      "\"about data science\".\n",
      "data technology\n",
      "BOT: [24] \"data science\" became more widely used in the next few years: in 2002, the committee on data for science and technology launched data science journal.\n",
      "bye\n",
      "BOT: Goodbye! Take care<3\n"
     ]
    }
   ],
   "source": [
    "import numpy as np,string,nltk,random\n",
    "from sklearn.feature_extraction.text import TfidfVectorizer\n",
    "from sklearn.metrics.pairwise import cosine_similarity\n",
    "\n",
    "#opening data file\n",
    "f=open('chatbot.txt','r',errors='ignore')\n",
    "raw_doc=(f.read()).lower()\n",
    "\n",
    "#tokenization\n",
    "sent_tokens=nltk.sent_tokenize(raw_doc)\n",
    "word_tokens=nltk.word_tokenize(raw_doc)\n",
    "lemmer=nltk.stem.WordNetLemmatizer()\n",
    "\n",
    "def LemTokens(tokens):\n",
    "    return [lemmer.lemmatize(token) for token in tokens]\n",
    "\n",
    "remove_punct_dict=dict((ord(punct),None) for punct in string.punctuation)\n",
    "\n",
    "def LemNormalize(text):\n",
    "    return LemTokens(nltk.word_tokenize(text.lower().translate(remove_punct_dict)))\n",
    "\n",
    "GREET_INPUTS=('hey','hello','hi','greetings','sup',\"what's up\",'hey cookie')\n",
    "GREET_RESPONSES=('hello','hey','*nods*','hi there!','I am glad you are talking to me!')\n",
    "def greet(sentence):\n",
    "    for word in sentence.split():\n",
    "        if word.lower() in GREET_INPUTS:\n",
    "            return random.choice(GREET_RESPONSES)\n",
    "\n",
    "#generating automatic responses        \n",
    "def response(user_response):\n",
    "    robo1_response=''\n",
    "    TfidfVec=TfidfVectorizer(tokenizer=LemNormalize, stop_words='english')\n",
    "    tfidf=TfidfVec.fit_transform(sent_tokens)\n",
    "    vals=cosine_similarity(tfidf[-1],tfidf)\n",
    "    idx=vals.argsort()[0][-2]\n",
    "    flat=vals.flatten()\n",
    "    flat.sort()\n",
    "    req_tfidf=flat[-2]\n",
    "    if req_tfidf==0:\n",
    "        robo1_response=robo1_response+'i am sorry i dont understand you :('\n",
    "        return robo1_response\n",
    "    else:\n",
    "        robo1_response=robo1_response+sent_tokens[idx]\n",
    "        return robo1_response\n",
    "    \n",
    "#main function    \n",
    "flag=True\n",
    "print(\"BOT: Hi, My name is Cookie. Let's start a conversation! Also, if you want to exit anytime just type Bye!\")\n",
    "while flag==True:\n",
    "    user_response=input()\n",
    "    user_response.lower()\n",
    "    if user_response!='bye':\n",
    "        if (user_response=='thanks' or user_response=='thank you'):\n",
    "            print('BOT: your welcome...')\n",
    "            flag=False\n",
    "        else:\n",
    "            if(greet(user_response)!=None):\n",
    "                print(\"BOT: \"+greet(user_response))\n",
    "            else:\n",
    "                sent_tokens.append(user_response)\n",
    "                word_tokens=word_tokens+nltk.word_tokenize(user_response)\n",
    "                final_words=list(set(word_tokens))\n",
    "                print(\"BOT: \",end=\"\")\n",
    "                print(response(user_response))\n",
    "                sent_tokens.remove(user_response)\n",
    "    else:\n",
    "        print('BOT: Goodbye! Take care<3')\n",
    "        flag=False"
   ]
  }
 ],
 "metadata": {
  "kernelspec": {
   "display_name": "Python 3 (ipykernel)",
   "language": "python",
   "name": "python3"
  },
  "language_info": {
   "codemirror_mode": {
    "name": "ipython",
    "version": 3
   },
   "file_extension": ".py",
   "mimetype": "text/x-python",
   "name": "python",
   "nbconvert_exporter": "python",
   "pygments_lexer": "ipython3",
   "version": "3.9.13"
  }
 },
 "nbformat": 4,
 "nbformat_minor": 5
}
